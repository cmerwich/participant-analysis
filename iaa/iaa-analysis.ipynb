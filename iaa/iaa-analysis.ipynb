{
 "cells": [
  {
   "cell_type": "markdown",
   "metadata": {},
   "source": [
    "<img align=\"right\" src=\"images/tf-small.png\" width=\"90\"/>\n",
    "<img align=\"right\" src=\"images/etcbc.png\" width=\"100\"/>\n",
    "\n",
    "\n",
    "# Creating a Coreference-annotated Corpus for Biblical Hebrew\n",
    "\n",
    "#### An Analysis of Inter-annotator Agreement for Coreference Resolution Annotations in the Psalms and Beyond"
   ]
  },
  {
   "cell_type": "markdown",
   "metadata": {},
   "source": [
    "This notebook demonstrates and analyses the calculations of inter-annotator agreement, or IAA, for the annotation of coreference information in the Hebrew Bible, specifically the Psalms. The Psalms, consisting of 150 poems in Ancient Hebrew, have been chosen as annotation corpus because they are the focus of my PhD research. \n",
    "\n",
    "The Psalms and some comparison texts from Genesis, Numbers and Isaiah, have been annotated according to certain rules. A brief explanation of this process and accompanying annotation tools and resources can be found in the [coreference](https://github.com/cmerwich/participant-analysis/tree/master/coreference) notebooks. \n",
    "\n"
   ]
  },
  {
   "cell_type": "markdown",
   "metadata": {},
   "source": []
  },
  {
   "cell_type": "code",
   "execution_count": null,
   "metadata": {},
   "outputs": [],
   "source": []
  }
 ],
 "metadata": {
  "kernelspec": {
   "display_name": "Python 3",
   "language": "python",
   "name": "python3"
  },
  "language_info": {
   "codemirror_mode": {
    "name": "ipython",
    "version": 3
   },
   "file_extension": ".py",
   "mimetype": "text/x-python",
   "name": "python",
   "nbconvert_exporter": "python",
   "pygments_lexer": "ipython3",
   "version": "3.7.0"
  }
 },
 "nbformat": 4,
 "nbformat_minor": 2
}
