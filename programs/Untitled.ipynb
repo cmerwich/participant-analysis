{
 "cells": [
  {
   "cell_type": "code",
   "execution_count": 6,
   "metadata": {},
   "outputs": [],
   "source": [
    "def CreateCoref(book_name, first_chapter, last_chapter):\n",
    "    print(book_name, first_chapter, last_chapter)"
   ]
  },
  {
   "cell_type": "code",
   "execution_count": 7,
   "metadata": {},
   "outputs": [],
   "source": [
    "def Usage():\n",
    "    stderr.write('usage: createcoref book_name first_chapter [last_chapter]\\n')\n",
    "    exit(1)"
   ]
  },
  {
   "cell_type": "code",
   "execution_count": 8,
   "metadata": {},
   "outputs": [
    {
     "ename": "NameError",
     "evalue": "name 'argv' is not defined",
     "output_type": "error",
     "traceback": [
      "\u001b[0;31m---------------------------------------------------------------------------\u001b[0m",
      "\u001b[0;31mNameError\u001b[0m                                 Traceback (most recent call last)",
      "\u001b[0;32m<ipython-input-8-2a96b7333355>\u001b[0m in \u001b[0;36m<module>\u001b[0;34m()\u001b[0m\n\u001b[1;32m     18\u001b[0m \u001b[0;34m\u001b[0m\u001b[0m\n\u001b[1;32m     19\u001b[0m \u001b[0;32mif\u001b[0m \u001b[0m__name__\u001b[0m \u001b[0;34m==\u001b[0m \u001b[0;34m\"__main__\"\u001b[0m\u001b[0;34m:\u001b[0m\u001b[0;34m\u001b[0m\u001b[0m\n\u001b[0;32m---> 20\u001b[0;31m     \u001b[0mmain\u001b[0m\u001b[0;34m(\u001b[0m\u001b[0margv\u001b[0m\u001b[0;34m[\u001b[0m\u001b[0;36m1\u001b[0m\u001b[0;34m:\u001b[0m\u001b[0;34m]\u001b[0m\u001b[0;34m)\u001b[0m\u001b[0;34m\u001b[0m\u001b[0m\n\u001b[0m",
      "\u001b[0;31mNameError\u001b[0m: name 'argv' is not defined"
     ]
    }
   ],
   "source": [
    "def main(argv):\n",
    "    try:\n",
    "        opts, args = getopt.getopt(argv, 'v', [])\n",
    "    except getopt.GetoptError:\n",
    "        Usage()\n",
    "    \n",
    "    if len(args) == 2:\n",
    "        last_chapter = int(args[2])\n",
    "    elif len(args) == 3:\n",
    "        last_chapter = int(args[3])\n",
    "    else:\n",
    "        Usage()   \n",
    "    \n",
    "    first_chapter = int(args[2])\n",
    "    book_name = args[1]\n",
    "    \n",
    "    CreateCoref(book_name, first_chapter, last_chapter)\n",
    "\n",
    "if __name__ == \"__main__\":\n",
    "    main(argv[1:])"
   ]
  },
  {
   "cell_type": "code",
   "execution_count": 9,
   "metadata": {},
   "outputs": [
    {
     "name": "stdout",
     "output_type": "stream",
     "text": [
      "Psalms 1 3\n"
     ]
    }
   ],
   "source": [
    "CreateCoref('Psalms', 1, 3)"
   ]
  },
  {
   "cell_type": "code",
   "execution_count": null,
   "metadata": {},
   "outputs": [],
   "source": [
    "def replace_suffix(source_string, replace_what, replace_with):\n",
    "    head, _sep, tail = source_string.rpartition(replace_what)\n",
    "    #new = head + replace_with + tail\n",
    "    return head + replace_with + tail, head\n",
    "\n",
    "def replace(g_prs):\n",
    "    char_set = set('+:@.,;AEIOU')\n",
    "    if g_prs not in {'', '+'}:\n",
    "        new_prs = 'A' if g_prs == '+A' else ''.join(char for char in g_prs if char not in char_set)\n",
    "        return new_prs\n",
    "\n",
    "def print_text(book, chapter):\n",
    "    l=[]\n",
    "    \n",
    "    chn = T.nodeFromSection((book, chapter))\n",
    "    c = 0\n",
    "    for vn in L.d(chn, 'verse'):\n",
    "        verse_words = L.d(vn, 'word')\n",
    "        vt = T.text(L.d(vn,'word'), fmt='text-trans-plain')\n",
    "        #print(vt)\n",
    "        \n",
    "        for w in verse_words:\n",
    "            gcons_word = F.g_cons.v(w)\n",
    "            trailer = F.trailer.v(w)\n",
    "            prs = F.prs.v(w)\n",
    "            g_prs = F.g_prs.v(w)\n",
    "            new_prs = replace(g_prs)\n",
    "            if new_prs:\n",
    "                print(gcons_word, new_prs)\n",
    "                \n",
    "                if gcons_word.endswith(new_prs) and trailer == '':\n",
    "                    word, head = replace_suffix(gcons_word, new_prs, f'+{prs}-')\n",
    "\n",
    "                elif gcons_word.endswith(new_prs) and trailer != '':\n",
    "                    word, head = replace_suffix(gcons_word, new_prs, f'+{prs} ')\n",
    "                    print(word, head)\n",
    "            if trailer == '':\n",
    "                nw = f'{gcons_word}-' #trailer_dict[trailer]\n",
    "                print(nw)\n",
    "            else:\n",
    "                nw = f'{gcons_word} '\n",
    "                print(nw)\n",
    "                \n",
    "print_text('Psalms', 1)"
   ]
  },
  {
   "cell_type": "code",
   "execution_count": null,
   "metadata": {},
   "outputs": [],
   "source": [
    "def process_suffix(g_word, sfx):\n",
    "   if sfx:\n",
    "      return g_word + '+' + sfx\n",
    "   else:\n",
    "      return g_word\n",
    "\n",
    "def process_space(g_word, trailer, sep):\n",
    "   if trailer == '':\n",
    "      return g_word + '-'\n",
    "   else:\n",
    "      return g_word + sep\n",
    "\n",
    "def emit_word(index_dict, w, sep):\n",
    "   ...\n",
    "   g_word = process_suffix(g_word, sfx)\n",
    "   g_word = process_space(g_word, trailer, sep)\n",
    "   index_dict[w] = MakeIndex(w, txtPos, g_word)\n",
    "   /* woord wegschrijven */\n",
    "   txtPos += len(g_word)\n",
    "\n",
    "\n",
    "for i in range(len(verse_words) - 1):\n",
    "   emit_word(index_dict, verse_words[i], ' ')\n",
    "emit_word(index_dict, verse_words[-1], '\\n')"
   ]
  },
  {
   "cell_type": "code",
   "execution_count": null,
   "metadata": {},
   "outputs": [],
   "source": [
    "def Replace(g_prs):\n",
    "    char_set = set('+:@.,;AEIOU')\n",
    "    if g_prs not in {'', '+'}:\n",
    "        new_prs = 'A' if g_prs == '+A' else ''.join(char for char in g_prs if char not in char_set)\n",
    "        return new_prs"
   ]
  },
  {
   "cell_type": "code",
   "execution_count": null,
   "metadata": {},
   "outputs": [],
   "source": [
    "def ReplaceSuffix(source_string, replace_what, replace_with):\n",
    "    '''\n",
    "    S.rpartition(sep) -> (head, sep, tail)\n",
    "\n",
    "    Search for the _sep (separator) in S (string), starting at the end of S, and return\n",
    "    the part before it, the separator itself, and the part after it.  If the\n",
    "    separator is not found, return two empty strings and S.\n",
    "    '''\n",
    "    \n",
    "    head, _sep, tail = source_string.rpartition(replace_what)\n",
    "    return head + replace_with + tail, head "
   ]
  },
  {
   "cell_type": "code",
   "execution_count": null,
   "metadata": {},
   "outputs": [],
   "source": [
    "word_prs, head = ReplaceSuffix(gcons_word, new_prs, f'+{new_prs}')"
   ]
  },
  {
   "cell_type": "code",
   "execution_count": null,
   "metadata": {},
   "outputs": [],
   "source": [
    "class Mention:\n",
    "    def __init__(self, name, start=0, end=0, lex='', note='', file=0, suffix=False):\n",
    "        self.name = name     # Identifier of the mention, e.g. T32\n",
    "        self.start = start   # Start of the position in the txt file\n",
    "        self.end = end       # End of the position in the txt file\n",
    "        self.lex = lex       # Lexical information of the mention\n",
    "        self.suffix = suffix # Boolean for existence of suffix on word\n",
    "        self.note = note     # AnnotatorNotes generated by MakeMentions()"
   ]
  }
 ],
 "metadata": {
  "kernelspec": {
   "display_name": "Python 3",
   "language": "python",
   "name": "python3"
  },
  "language_info": {
   "codemirror_mode": {
    "name": "ipython",
    "version": 3
   },
   "file_extension": ".py",
   "mimetype": "text/x-python",
   "name": "python",
   "nbconvert_exporter": "python",
   "pygments_lexer": "ipython3",
   "version": "3.7.0"
  }
 },
 "nbformat": 4,
 "nbformat_minor": 2
}
