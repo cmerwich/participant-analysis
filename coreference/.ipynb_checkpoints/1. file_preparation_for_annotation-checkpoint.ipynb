{
 "cells": [
  {
   "cell_type": "markdown",
   "metadata": {},
   "source": [
    "# File Preparation for Annotation"
   ]
  },
  {
   "cell_type": "markdown",
   "metadata": {},
   "source": [
    "## Introduction \n",
    "\n",
    "This notebook outputs three files:\n",
    "\n",
    "* [text-trans-plain](https://dans-labs.github.io/text-fabric/Api/General/#text-representation) .txt files for annotation of the Biblical Hebrew text\n",
    "* [text-orig-full](https://dans-labs.github.io/text-fabric/Api/General/#text-representation) .txt files for easy reading of the Biblical Hebrew text\n",
    "* stand-off .tsv files for future Text-Fabric administration\n",
    "\n",
    "of the books and chapters that need to be annotated for coreference. The books and chapers can be specified in the `File Administration` cell below.  \n",
    "\n",
    "The annotation is done in [brat](http://brat.nlplab.org). \n",
    "\n",
    "In the second notebook **2. annotation_aid** I will explain what information from TF is retrieved to annotate for coreference. "
   ]
  },
  {
   "cell_type": "markdown",
   "metadata": {},
   "source": [
    "## 1. Import modules and utils"
   ]
  },
  {
   "cell_type": "code",
   "execution_count": 1,
   "metadata": {},
   "outputs": [
    {
     "name": "stdout",
     "output_type": "stream",
     "text": [
      "Notebook last updated by Christiaan at 2018-09-13 17:06:17.376368\n"
     ]
    }
   ],
   "source": [
    "import sys, os, re, pickle, csv, collections\n",
    "from collections import *\n",
    "from IPython.display import HTML\n",
    "from pprint import pprint\n",
    "from functools import reduce\n",
    "\n",
    "from tf.fabric import Fabric\n",
    "from tf.extra.bhsa import Bhsa\n",
    "\n",
    "from print_datetime import *\n",
    "print_datetime()"
   ]
  },
  {
   "cell_type": "markdown",
   "metadata": {},
   "source": [
    "## 2. Import Text-Fabric data \n",
    "\n",
    "For the coreference data I used the frozen 2017 version, taken from the ETCBC 2017-10-06. The 2017 version is archived in Zenodo: DOI: [doi.org/10.5281/zenodo.1007624](https://zenodo.org/record/1302798#.W5ocuC1g3pI). \n",
    "\n",
    "I use 2017 because I don't want the data to change while I'm annotating. The annotated data will be made available through TF later on. "
   ]
  },
  {
   "cell_type": "code",
   "execution_count": 2,
   "metadata": {},
   "outputs": [
    {
     "name": "stdout",
     "output_type": "stream",
     "text": [
      "This is Text-Fabric 5.5.19\n",
      "Api reference : https://dans-labs.github.io/text-fabric/Api/General/\n",
      "Tutorial      : https://github.com/Dans-labs/text-fabric/blob/master/docs/tutorial.ipynb\n",
      "Example data  : https://github.com/Dans-labs/text-fabric-data\n",
      "\n",
      "115 features found and 0 ignored\n"
     ]
    }
   ],
   "source": [
    "VERSION = '2017'\n",
    "DATABASE = '~/github/etcbc'\n",
    "BHSA = f'bhsa/tf/{VERSION}'\n",
    "REFERENCE = f'bh-reference-system/tf/{VERSION}' # Check my GitHub to download extra pgn features\n",
    "TF = Fabric(locations=[DATABASE], modules=[BHSA, REFERENCE], silent=False )"
   ]
  },
  {
   "cell_type": "markdown",
   "metadata": {},
   "source": [
    "## 3. Import Text-Fabric features "
   ]
  },
  {
   "cell_type": "code",
   "execution_count": 3,
   "metadata": {},
   "outputs": [
    {
     "data": {
      "text/markdown": [
       "**Documentation:** <a target=\"_blank\" href=\"https://etcbc.github.io/bhsa\" title=\"{provenance of this corpus}\">BHSA</a> <a target=\"_blank\" href=\"https://etcbc.github.io/bhsa/features/hebrew/2017/0_home.html\" title=\"{CORPUS.upper()} feature documentation\">Feature docs</a> <a target=\"_blank\" href=\"https://dans-labs.github.io/text-fabric/Api/Bhsa/\" title=\"BHSA API documentation\">BHSA API</a> <a target=\"_blank\" href=\"https://dans-labs.github.io/text-fabric/Api/General/\" title=\"text-fabric-api\">Text-Fabric API 5.5.19</a> <a target=\"_blank\" href=\"https://dans-labs.github.io/text-fabric/Api/General/#search-templates\" title=\"Search Templates Introduction and Reference\">Search Reference</a>"
      ],
      "text/plain": [
       "<IPython.core.display.Markdown object>"
      ]
     },
     "metadata": {},
     "output_type": "display_data"
    },
    {
     "data": {
      "text/html": [
       "\n",
       "<style type=\"text/css\">\n",
       ".verse {\n",
       "    display: flex;\n",
       "    flex-flow: row wrap;\n",
       "    direction: rtl;\n",
       "}\n",
       ".vl {\n",
       "    display: flex;\n",
       "    flex-flow: column nowrap;\n",
       "    justify-content: flex-end;\n",
       "    align-items: flex-end;\n",
       "    direction: ltr;\n",
       "    width: 100%;\n",
       "}\n",
       ".outeritem {\n",
       "    display: flex;\n",
       "    flex-flow: row wrap;\n",
       "    direction: rtl;\n",
       "}\n",
       ".sentence,.clause,.phrase {\n",
       "    margin-top: -1.2em;\n",
       "    margin-left: 1em;\n",
       "    background: #ffffff none repeat scroll 0 0;\n",
       "    padding: 0 0.3em;\n",
       "    border-style: solid;\n",
       "    border-radius: 0.2em;\n",
       "    font-size: small;\n",
       "    display: block;\n",
       "    width: fit-content;\n",
       "    max-width: fit-content;\n",
       "    direction: ltr;\n",
       "}\n",
       ".atoms {\n",
       "    display: flex;\n",
       "    flex-flow: row wrap;\n",
       "    margin: 0.3em;\n",
       "    padding: 0.3em;\n",
       "    direction: rtl;\n",
       "    background-color: #ffffff;\n",
       "}\n",
       ".satom,.catom,.patom {\n",
       "    margin: 0.3em;\n",
       "    padding: 0.3em;\n",
       "    border-radius: 0.3em;\n",
       "    border-style: solid;\n",
       "    display: flex;\n",
       "    flex-flow: column nowrap;\n",
       "    direction: rtl;\n",
       "    background-color: #ffffff;\n",
       "}\n",
       ".sentence {\n",
       "    border-color: #aa3333;\n",
       "    border-width: 1px;\n",
       "}\n",
       ".clause {\n",
       "    border-color: #aaaa33;\n",
       "    border-width: 1px;\n",
       "}\n",
       ".phrase {\n",
       "    border-color: #33aaaa;\n",
       "    border-width: 1px;\n",
       "}\n",
       ".satom {\n",
       "    border-color: #aa3333;\n",
       "    border-width: 4px;\n",
       "}\n",
       ".catom {\n",
       "    border-color: #aaaa33;\n",
       "    border-width: 3px;\n",
       "}\n",
       ".patom {\n",
       "    border-color: #33aaaa;\n",
       "    border-width: 3px;\n",
       "}\n",
       ".word {\n",
       "    padding: 0.1em;\n",
       "    margin: 0.1em;\n",
       "    border-radius: 0.1em;\n",
       "    border: 1px solid #cccccc;\n",
       "    display: flex;\n",
       "    flex-flow: column nowrap;\n",
       "    direction: rtl;\n",
       "    background-color: #ffffff;\n",
       "}\n",
       ".lex {\n",
       "    padding: 0.1em;\n",
       "    margin: 0.1em;\n",
       "    border-radius: 0.1em;\n",
       "    border: 2px solid #888888;\n",
       "    width: fit-content;\n",
       "    display: flex;\n",
       "    flex-flow: column nowrap;\n",
       "    direction: rtl;\n",
       "    background-color: #ffffff;\n",
       "}\n",
       ".occs {\n",
       "    font-size: x-small;\n",
       "}\n",
       ".satom.l,.catom.l,.patom.l {\n",
       "    border-left-style: dotted\n",
       "}\n",
       ".satom.r,.catom.r,.patom.r {\n",
       "    border-right-style: dotted\n",
       "}\n",
       ".satom.L,.catom.L,.patom.L {\n",
       "    border-left-style: none\n",
       "}\n",
       ".satom.R,.catom.R,.patom.R {\n",
       "    border-right-style: none\n",
       "}\n",
       ".h,.h a:visited,.h a:link {\n",
       "    font-family: \"Ezra SIL\", \"SBL Hebrew\", sans-serif;\n",
       "    font-size: large;\n",
       "    color: #000044;\n",
       "    direction: rtl;\n",
       "    text-decoration: none;\n",
       "}\n",
       ".hb,.hb a:visited,.hb a:link {\n",
       "    font-family: \"Ezra SIL\", \"SBL Hebrew\", sans-serif;\n",
       "    font-size: large;\n",
       "    direction: rtl;\n",
       "    text-decoration: none;\n",
       "}\n",
       ".rela,.function,.typ {\n",
       "    font-family: monospace;\n",
       "    font-size: small;\n",
       "    color: #0000bb;\n",
       "}\n",
       ".pdp,.pdp a:visited,.pdp a:link {\n",
       "    font-family: monospace;\n",
       "    font-size: medium;\n",
       "    color: #0000bb;\n",
       "    text-decoration: none;\n",
       "}\n",
       ".voc_lex {\n",
       "    font-family: monospace;\n",
       "    font-size: medium;\n",
       "    color: #0000bb;\n",
       "}\n",
       ".vs {\n",
       "    font-family: monospace;\n",
       "    font-size: medium;\n",
       "    font-weight: bold;\n",
       "    color: #0000bb;\n",
       "}\n",
       ".vt {\n",
       "    font-family: monospace;\n",
       "    font-size: medium;\n",
       "    font-weight: bold;\n",
       "    color: #0000bb;\n",
       "}\n",
       ".gloss {\n",
       "    font-family: sans-serif;\n",
       "    font-size: small;\n",
       "    font-weight: normal;\n",
       "    color: #aaaaaa;\n",
       "}\n",
       ".vrs {\n",
       "    font-family: sans-serif;\n",
       "    font-size: small;\n",
       "    font-weight: bold;\n",
       "    color: #444444;\n",
       "}\n",
       ".nd {\n",
       "    font-family: monospace;\n",
       "    font-size: x-small;\n",
       "    color: #999999;\n",
       "}\n",
       ".features {\n",
       "    font-family: monospace;\n",
       "    font-size: medium;\n",
       "    font-weight: bold;\n",
       "    color: #0a6611;\n",
       "    display: flex;\n",
       "    flex-flow: column nowrap;\n",
       "    padding: 0.1em;\n",
       "    margin: 0.1em;\n",
       "}\n",
       ".features .f {\n",
       "    font-family: sans-serif;\n",
       "    font-size: x-small;\n",
       "    font-weight: normal;\n",
       "    color: #5555bb;\n",
       "}\n",
       ".word .features div,.word .features span {\n",
       "    padding: 0;\n",
       "    margin: -0.1rem 0;\n",
       "}\n",
       "\n",
       ".hl {\n",
       "    background-color: #ffee66;\n",
       "}\n",
       "</style>\n"
      ],
      "text/plain": [
       "<IPython.core.display.HTML object>"
      ]
     },
     "metadata": {},
     "output_type": "display_data"
    }
   ],
   "source": [
    "api = TF.load('''\n",
    "    otype\n",
    "    lex book chapter verse\n",
    "    nu ps gn prs ls lex gloss\n",
    "    function sp typ pdp language\n",
    "''', silent=True)\n",
    "\n",
    "api.makeAvailableIn(globals())\n",
    "\n",
    "B = Bhsa(api, 'file_preparation_for_annotation', version=VERSION)"
   ]
  },
  {
   "cell_type": "markdown",
   "metadata": {},
   "source": [
    "## 4. File administration"
   ]
  },
  {
   "cell_type": "code",
   "execution_count": 6,
   "metadata": {},
   "outputs": [],
   "source": [
    "PATH_FILE_ANNOTATE = '/Users/Christiaan/Sites/brat/data/psalms_coref/psalms_annotate/' # Path for annotation files\n",
    "\n",
    "PATH_FILE_STAND_OFF = '/Users/Christiaan/Sites/brat/data/psalms_coref/stand_off/' # Path for stand-off files \n",
    "\n",
    "PATH_FILE_FULL = '/Users/Christiaan/Sites/brat/data/psalms_coref/psalms_full/' # Path for full text files "
   ]
  },
  {
   "cell_type": "markdown",
   "metadata": {},
   "source": [
    "## 5. Which book and chapters"
   ]
  },
  {
   "cell_type": "code",
   "execution_count": null,
   "metadata": {},
   "outputs": [],
   "source": [
    "# Set any Hebrew Bible Book\n",
    "MY_BOOK = {'Psalms'} \n",
    "\n",
    "# Set any range in chapters of specified HB book\n",
    "MY_CHAPTERS = set(range(1,151)) "
   ]
  },
  {
   "cell_type": "code",
   "execution_count": 7,
   "metadata": {},
   "outputs": [
    {
     "name": "stdout",
     "output_type": "stream",
     "text": [
      "    32s Making .txt and .tsv files per book and chapter.\n",
      "    40s Done making 150 text-trans-plain txt files of specified books and chapters for annotation.\n",
      "    40s Done making 150 text-orig-full txt files of specified books and chapters for easy reading.\n",
      "    40s Done making 150 tsv stand-off files of specified books and chapters for future Text-Fabric administration.\n"
     ]
    }
   ],
   "source": [
    "info('Making .txt and .tsv files per book and chapter.')\n",
    "\n",
    "chap_list = []\n",
    "\n",
    "for chn in F.otype.s('chapter'):\n",
    "    chapter = F.chapter.v(chn)\n",
    "\n",
    "    for bn in L.u(chn, 'book'):\n",
    "        book_name = T.bookName(bn)\n",
    "        \n",
    "        if book_name in MY_BOOK and chapter in MY_CHAPTERS:\n",
    "            book_chap = book_name+'_'+'{0:0=3d}'.format(chapter)\n",
    "            chap_list.append(book_chap)\n",
    "            \n",
    "            filename_txt = '{}.txt'.format(book_chap)\n",
    "            filename_txt_full = '{}_full.txt'.format(book_chap)\n",
    "            \n",
    "            with open('{}{}'.format(PATH_FILE_ANNOTATE, filename_txt), 'w') as txt_f, \\\n",
    "            open('{}{}'.format(PATH_FILE_FULL, filename_txt_full), 'w') as txt_f_full:\n",
    "                txt_f.write('{}\\n'.format(''.join(book_chap)))\n",
    "                \n",
    "                txt_f_full.write('{}\\n'.format(''.join(book_chap)))\n",
    "                \n",
    "                for vn in L.d(chn, 'verse'):\n",
    "                    boo, chap, vers = T.sectionFromNode(vn)\n",
    "                    verse_words = L.d(vn, 'word')\n",
    "                    \n",
    "                    txt_infor = [str(vers), T.text(verse_words, fmt='text-trans-plain')]\n",
    "                    txt_infor_full = [str(vers), T.text(verse_words)]\n",
    "                    \n",
    "                    # make 'text-trans-plain' txt files for annotation\n",
    "                    txt_f.write('{}\\n'.format(' '.join(txt_infor)))\n",
    "                    \n",
    "                    # make 'text-orig-full' txt files for easy reading\n",
    "                    txt_f_full.write('{}\\n'.format(' '.join(txt_infor_full)))\n",
    "                    \n",
    "                    # now make the stand-off file\n",
    "                    chapter_words = L.d(chn, 'word')\n",
    "                    index = 0 \n",
    "\n",
    "                    filename_tsv = '{}.tsv'.format(book_chap)\n",
    "                    \n",
    "                    with open('{}{}'.format(PATH_FILE_STAND_OFF, filename_tsv), 'w') as tsv_f:\n",
    "                        header = ['start_index', 'end_index', 'word_node']\n",
    "                        tsv_f.write('{}\\n'.format('\\t'.join(header)))\n",
    "                        \n",
    "                        for w in chapter_words:\n",
    "                            start_index = index\n",
    "                            length_word = len(T.text([w], fmt='text-trans-plain'))\n",
    "                            end_index = index+length_word-1\n",
    "                            index += length_word \n",
    "                            \n",
    "                            tsv_infor = [str(start_index), str(end_index), str(w)]\n",
    "                            tsv_f.write('{}\\n'.format('\\t'.join(tsv_infor)))\n",
    "                            \n",
    "                        if index != len(T.text(chapter_words, fmt='text-trans-plain')):\n",
    "                            info('This is not good. Check your indices for the .tsv again!')\n",
    "\n",
    "info('Done making {} text-trans-plain txt files of specified books and chapters for annotation.'.format(len(chap_list)))\n",
    "info('Done making {} text-orig-full txt files of specified books and chapters for easy reading.'.format(len(chap_list)))\n",
    "info('Done making {} tsv stand-off files of specified books and chapters for future Text-Fabric administration.'.format(len(chap_list)))  \n",
    "\n",
    "#pprint(list(text.items())[0:4])"
   ]
  },
  {
   "cell_type": "markdown",
   "metadata": {},
   "source": [
    "## Make stand-off file for administration"
   ]
  },
  {
   "cell_type": "markdown",
   "metadata": {},
   "source": [
    "Ok, dan ga ik aan de slag met de annotatie van de Psalmen op de volgende manier:\n",
    "\n",
    "1. schrijf een .conf file waarin ik specificeer op welke entiteiten (persoon, object, organisatie = familierelatie, etc.) en relaties (antecedent, anaphor) ik annoteer (bij succes kan deze ook gebruikt worden voor andere Bijbelboeken)\n",
    "2. maak per psalm een txt bestand met daarin de volle gepunctueerde Hebreeuwse text, voor de zekerheid zet ik daar het boek, hoofdstuk, versnummer en de versnode bij\n",
    "3. maak een begeleidende tsv stand-off file met kolommen: startpositie, eindpositie, tf wordnode\n",
    "4. importeer #1 en #2 in Brat, en start met annoteren\n",
    "\n",
    "De annotatie duurt wel even. Het is namelijk een flinke klus. Maar ik heb goede hoop."
   ]
  },
  {
   "cell_type": "markdown",
   "metadata": {},
   "source": [
    "Maar je kunt ook een stand-off file meegenereren: een tabel die van elk woord de character positie van het begin en van het eind van dat woord bevat, plus de woord node van dat woord.\n",
    "\n",
    "Ja. Dus als je de file leest, moet je bijhouden op het hoeveelste karakter in die file elk woord begint en eindigt.\n",
    "\n",
    "Ik zou de stand off file genereren op het zelfde moment dat je de .txt file genereert, want in dat generatie proces heb je alle benodigde info bij de hand, inclusief de start en eind posities van de woorden."
   ]
  },
  {
   "cell_type": "markdown",
   "metadata": {},
   "source": [
    "Indexeren: ja. De stand off file:\n",
    "\n",
    "* 0 7 567 \n",
    "* 9 13 568 \n",
    "* 14 21 569\n",
    "\n",
    "Tab separated, kolommen: startpos endpos tfnode"
   ]
  },
  {
   "cell_type": "markdown",
   "metadata": {},
   "source": [
    "Ja, als je inplaats van op `laugh` op ieder woord matcht (\\W+), dan krijg je van ieder woord de start positie, en de eind positie krijg je door er de lengte van het woord bij op te tellen. Zie ook de python doc voor re, ihb Match objects: https://docs.python.org/3/library/re.html#module-re\n",
    "Ik moet nu een tijdje weg."
   ]
  },
  {
   "cell_type": "code",
   "execution_count": null,
   "metadata": {},
   "outputs": [],
   "source": []
  }
 ],
 "metadata": {
  "kernelspec": {
   "display_name": "Python 3",
   "language": "python",
   "name": "python3"
  },
  "language_info": {
   "codemirror_mode": {
    "name": "ipython",
    "version": 3
   },
   "file_extension": ".py",
   "mimetype": "text/x-python",
   "name": "python",
   "nbconvert_exporter": "python",
   "pygments_lexer": "ipython3",
   "version": "3.7.0"
  }
 },
 "nbformat": 4,
 "nbformat_minor": 2
}
