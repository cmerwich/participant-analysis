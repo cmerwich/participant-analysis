{
 "cells": [
  {
   "cell_type": "code",
   "execution_count": null,
   "metadata": {},
   "outputs": [],
   "source": [
    "import os\n",
    "import pandas as pd\n",
    "from pprint import pprint\n",
    "from retrieve_iaa import retrieve_ann\n",
    "from export_utils import MakeTable, ExportToLatex\n",
    "from utils import converse_pgn, suffix_dict"
   ]
  },
  {
   "cell_type": "code",
   "execution_count": null,
   "metadata": {},
   "outputs": [],
   "source": [
    "from tf.app import use\n",
    "from tf.fabric import Fabric\n",
    "\n",
    "A = use('bhsa', \n",
    "        version = 'C',\n",
    "        hoist=globals(),\n",
    "        silent=True\n",
    "       )\n",
    "TF.load('g_prs', add=True)"
   ]
  },
  {
   "cell_type": "code",
   "execution_count": null,
   "metadata": {},
   "outputs": [],
   "source": [
    "from mimi import mimi"
   ]
  },
  {
   "cell_type": "code",
   "execution_count": null,
   "metadata": {},
   "outputs": [],
   "source": [
    "mentions, corefs, mention_stats_df, coref_stats_df, sieve_stats_df, \\\n",
    "                        coref_total_df, sieve_total_df = mimi('Psalms', 75, 75)"
   ]
  },
  {
   "cell_type": "code",
   "execution_count": null,
   "metadata": {},
   "outputs": [],
   "source": [
    "mention_stats_df"
   ]
  },
  {
   "cell_type": "code",
   "execution_count": null,
   "metadata": {},
   "outputs": [],
   "source": [
    "coref_stats_df"
   ]
  },
  {
   "cell_type": "code",
   "execution_count": null,
   "metadata": {},
   "outputs": [],
   "source": [
    "sieve_stats_df"
   ]
  },
  {
   "cell_type": "code",
   "execution_count": null,
   "metadata": {},
   "outputs": [],
   "source": [
    "from operator import attrgetter\n",
    "\n",
    "def PrintCoref(Corefs):\n",
    "    i = 0 \n",
    "    classes = []\n",
    "    print( 'verse', 'id', 'mention', 'txttyp', '§', 'p', 'g', 'n', 'func', 'type', 'gloss', sep='\\t', end='\\n\\n')\n",
    "    for s in Corefs:\n",
    "        if len(s) > 1:\n",
    "            i+=1\n",
    "            classes = sorted(s, key=attrgetter('node_tuple'))\n",
    "            who = [m.who for m in classes if m.who != '']\n",
    "            where = [T.sectionFromNode(m.node_tuple[0]) for m in classes]\n",
    "            print(f'C{where[0][1]}:{i}', f'Who: {who[0]}', end='\\n')\n",
    "           \n",
    "            for m in classes:\n",
    "                which_verse = T.sectionFromNode(m.node_tuple[0])\n",
    "                gloss = F.gloss.v(L.u(m.node_tuple[0], 'lex')[0]) if not m.issuffix else ''\n",
    "                print(which_verse[2], m.name, m.text, m.txttype, m.pargr, m.person, m.gender, \n",
    "                      m.number, m.function, m.rpt, gloss,\n",
    "                  sep='\\t', end='\\n')\n",
    "            print('class: ', classes)\n",
    "            print('\\n')\n",
    "            \n",
    "PrintCoref(corefs)"
   ]
  },
  {
   "cell_type": "code",
   "execution_count": null,
   "metadata": {},
   "outputs": [],
   "source": [
    "def PrintMentions(Mentions, s):\n",
    "    \n",
    "    sing_list = []\n",
    "    sing_overview_df = pd.DataFrame()\n",
    "    i = 0\n",
    "    \n",
    "    print('verse', 'C/S', 'who', 'id', 'mention', 'txttyp', '§', 'p', 'g', 'n', 'func', 'type', 'gloss',\n",
    "          sep='\\t', end='\\n\\n')\n",
    "    for m in Mentions:\n",
    "        gloss = F.gloss.v(L.u(m.node_tuple[0], 'lex')[0]) if not m.issuffix else ''\n",
    "        which_verse = T.sectionFromNode(m.node_tuple[0])\n",
    "        if s == '':\n",
    "            if len(m.corefclass) > 1:\n",
    "                i+=1\n",
    "                print(which_verse[2], 'C', m.who, m.name, m.text, m.txttype, m.pargr, m.person, m.gender, \n",
    "                      m.number, m.function, m.rpt, gloss,\n",
    "                      sep='\\t')\n",
    "            else:\n",
    "                print(which_verse[2], '', '', m.name, m.text, m.txttype, m.pargr, m.person, m.gender, \n",
    "                  m.number, m.function, m.rpt, gloss,\n",
    "                  sep='\\t')\n",
    "                \n",
    "        elif s == 'singletons':\n",
    "            if len(m.corefclass) == 1:\n",
    "                i+=1\n",
    "                print(which_verse[2], f'S{i}', '', m.name, m.text, m.txttype, m.pargr, m.person, m.gender, \n",
    "                      m.number, m.function, m.rpt, gloss,\n",
    "                      sep='\\t')\n",
    "\n",
    "                sing_list.append({'v': which_verse[2],\n",
    "                            'S#' : f'S{i}',\n",
    "                            'id' : m.name,\n",
    "                            'mention' : m.text,\n",
    "                            'txt' : m.txttype, \n",
    "                            '§' : m.pargr, \n",
    "                            'p' : m.person, \n",
    "                            'g' : m.gender,\n",
    "                            'n': m.number,\n",
    "                            'func' : m.function,\n",
    "                            'type' : m.rpt,\n",
    "                            'gloss' : gloss\n",
    "                            })\n",
    "    \n",
    "            sing_overview_df = pd.DataFrame(sing_list)\n",
    "            sing_overview_df = sing_overview_df[['v', 'S#', 'id', 'mention', \n",
    "                                                 'txt', '§', 'p', 'g', 'n', \n",
    "                                                'func', 'type', 'gloss']]\n",
    "    return sing_overview_df"
   ]
  },
  {
   "cell_type": "code",
   "execution_count": null,
   "metadata": {},
   "outputs": [],
   "source": [
    "# option 'singletons' for only singletons\n",
    "sing_overview_df75 = PrintMentions(mentions, 'singletons')"
   ]
  },
  {
   "cell_type": "code",
   "execution_count": null,
   "metadata": {},
   "outputs": [],
   "source": [
    "sing_overview_df75"
   ]
  }
 ],
 "metadata": {
  "kernelspec": {
   "display_name": "Python 3",
   "language": "python",
   "name": "python3"
  },
  "language_info": {
   "codemirror_mode": {
    "name": "ipython",
    "version": 3
   },
   "file_extension": ".py",
   "mimetype": "text/x-python",
   "name": "python",
   "nbconvert_exporter": "python",
   "pygments_lexer": "ipython3",
   "version": "3.7.0"
  }
 },
 "nbformat": 4,
 "nbformat_minor": 2
}
