{
 "cells": [
  {
   "cell_type": "markdown",
   "metadata": {},
   "source": [
    "<img align=\"right\" src=\"images/tf-small.png\" width=\"90\"/>\n",
    "<img align=\"right\" src=\"images/etcbc.png\" width=\"100\"/>\n",
    "\n",
    "# MiMi\n",
    "## A Deterministic Coreference Resolver for Biblical Hebrew"
   ]
  },
  {
   "cell_type": "code",
   "execution_count": null,
   "metadata": {},
   "outputs": [],
   "source": [
    "__author__ = 'erwich/sikkel'"
   ]
  },
  {
   "cell_type": "code",
   "execution_count": null,
   "metadata": {},
   "outputs": [],
   "source": [
    "from collections import defaultdict, Counter\n",
    "from operator import attrgetter\n",
    "from pprint import pprint\n",
    "import pandas as pd"
   ]
  },
  {
   "cell_type": "code",
   "execution_count": 2,
   "metadata": {},
   "outputs": [],
   "source": [
    "from mimi import CreateCoref"
   ]
  },
  {
   "cell_type": "code",
   "execution_count": 3,
   "metadata": {},
   "outputs": [
    {
     "name": "stdout",
     "output_type": "stream",
     "text": [
      "\n",
      " Mention Parse Statistics: \n",
      " 18594 total phrase atoms parsed \n",
      " 18546 phrase atoms SUCCESFULLY parsed \n",
      " 48 phrase atoms FAILED to parse \n",
      " 99.7% parsing succes \n",
      " 0.3% parsing failure\n",
      "\n",
      " Coreference Resolution Statistics: \n",
      " 18479 total input corefs \n",
      " 6542 corefs RESOLVED \n",
      " 11937 corefs UNRESOLVED \n",
      " 35.4% corefs RESOLVED \n",
      " 64.6% corefs UNRESOLVED\n"
     ]
    }
   ],
   "source": [
    "CreateCoref('Psalms', 1, 150)"
   ]
  }
 ],
 "metadata": {
  "kernelspec": {
   "display_name": "Python 3",
   "language": "python",
   "name": "python3"
  },
  "language_info": {
   "codemirror_mode": {
    "name": "ipython",
    "version": 3
   },
   "file_extension": ".py",
   "mimetype": "text/x-python",
   "name": "python",
   "nbconvert_exporter": "python",
   "pygments_lexer": "ipython3",
   "version": "3.7.0"
  }
 },
 "nbformat": 4,
 "nbformat_minor": 2
}
