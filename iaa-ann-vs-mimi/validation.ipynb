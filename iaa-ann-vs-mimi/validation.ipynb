{
 "cells": [
  {
   "cell_type": "code",
   "execution_count": 1,
   "metadata": {},
   "outputs": [],
   "source": [
    "import os\n",
    "import pandas as pd\n",
    "from parse import Parse\n",
    "from acc import print_total\n",
    "from utils import ExportToLatex"
   ]
  },
  {
   "cell_type": "code",
   "execution_count": 23,
   "metadata": {},
   "outputs": [],
   "source": [
    "OUTPUT = os.path.expanduser('~/Documents/PhD/1-dissertation/DISSERTATIONlatex/Tables/')"
   ]
  },
  {
   "cell_type": "markdown",
   "metadata": {},
   "source": [
    "### IAA: Manual vs MiMi"
   ]
  },
  {
   "cell_type": "code",
   "execution_count": 5,
   "metadata": {},
   "outputs": [
    {
     "data": {
      "text/html": [
       "<div>\n",
       "<style scoped>\n",
       "    .dataframe tbody tr th:only-of-type {\n",
       "        vertical-align: middle;\n",
       "    }\n",
       "\n",
       "    .dataframe tbody tr th {\n",
       "        vertical-align: top;\n",
       "    }\n",
       "\n",
       "    .dataframe thead th {\n",
       "        text-align: right;\n",
       "    }\n",
       "</style>\n",
       "<table border=\"1\" class=\"dataframe\">\n",
       "  <thead>\n",
       "    <tr style=\"text-align: right;\">\n",
       "      <th></th>\n",
       "      <th>L</th>\n",
       "      <th>M</th>\n",
       "      <th>R</th>\n",
       "      <th>D</th>\n",
       "      <th>d</th>\n",
       "    </tr>\n",
       "  </thead>\n",
       "  <tbody>\n",
       "    <tr>\n",
       "      <th>Psalms_150.iaa</th>\n",
       "      <td>13</td>\n",
       "      <td>31</td>\n",
       "      <td>10</td>\n",
       "      <td>23</td>\n",
       "      <td>0.4259</td>\n",
       "    </tr>\n",
       "    <tr>\n",
       "      <th>Psalms_093.iaa</th>\n",
       "      <td>11</td>\n",
       "      <td>29</td>\n",
       "      <td>11</td>\n",
       "      <td>22</td>\n",
       "      <td>0.4314</td>\n",
       "    </tr>\n",
       "    <tr>\n",
       "      <th>Psalms_110.iaa</th>\n",
       "      <td>18</td>\n",
       "      <td>41</td>\n",
       "      <td>17</td>\n",
       "      <td>35</td>\n",
       "      <td>0.4605</td>\n",
       "    </tr>\n",
       "    <tr>\n",
       "      <th>Psalms_128.iaa</th>\n",
       "      <td>12</td>\n",
       "      <td>27</td>\n",
       "      <td>12</td>\n",
       "      <td>24</td>\n",
       "      <td>0.4706</td>\n",
       "    </tr>\n",
       "    <tr>\n",
       "      <th>Psalms_020.iaa</th>\n",
       "      <td>24</td>\n",
       "      <td>49</td>\n",
       "      <td>24</td>\n",
       "      <td>48</td>\n",
       "      <td>0.4948</td>\n",
       "    </tr>\n",
       "    <tr>\n",
       "      <th>Psalms_120.iaa</th>\n",
       "      <td>12</td>\n",
       "      <td>24</td>\n",
       "      <td>12</td>\n",
       "      <td>24</td>\n",
       "      <td>0.5000</td>\n",
       "    </tr>\n",
       "    <tr>\n",
       "      <th>Psalms_141.iaa</th>\n",
       "      <td>31</td>\n",
       "      <td>62</td>\n",
       "      <td>31</td>\n",
       "      <td>62</td>\n",
       "      <td>0.5000</td>\n",
       "    </tr>\n",
       "    <tr>\n",
       "      <th>Psalms_047.iaa</th>\n",
       "      <td>18</td>\n",
       "      <td>35</td>\n",
       "      <td>18</td>\n",
       "      <td>36</td>\n",
       "      <td>0.5070</td>\n",
       "    </tr>\n",
       "    <tr>\n",
       "      <th>Psalms_063.iaa</th>\n",
       "      <td>32</td>\n",
       "      <td>61</td>\n",
       "      <td>33</td>\n",
       "      <td>65</td>\n",
       "      <td>0.5159</td>\n",
       "    </tr>\n",
       "    <tr>\n",
       "      <th>Psalms_112.iaa</th>\n",
       "      <td>26</td>\n",
       "      <td>45</td>\n",
       "      <td>24</td>\n",
       "      <td>50</td>\n",
       "      <td>0.5263</td>\n",
       "    </tr>\n",
       "    <tr>\n",
       "      <th>Psalms_036.iaa</th>\n",
       "      <td>30</td>\n",
       "      <td>55</td>\n",
       "      <td>32</td>\n",
       "      <td>62</td>\n",
       "      <td>0.5299</td>\n",
       "    </tr>\n",
       "    <tr>\n",
       "      <th>Psalms_048.iaa</th>\n",
       "      <td>34</td>\n",
       "      <td>58</td>\n",
       "      <td>33</td>\n",
       "      <td>67</td>\n",
       "      <td>0.5360</td>\n",
       "    </tr>\n",
       "    <tr>\n",
       "      <th>Psalms_138.iaa</th>\n",
       "      <td>26</td>\n",
       "      <td>45</td>\n",
       "      <td>26</td>\n",
       "      <td>52</td>\n",
       "      <td>0.5361</td>\n",
       "    </tr>\n",
       "    <tr>\n",
       "      <th>Psalms_058.iaa</th>\n",
       "      <td>30</td>\n",
       "      <td>50</td>\n",
       "      <td>29</td>\n",
       "      <td>59</td>\n",
       "      <td>0.5413</td>\n",
       "    </tr>\n",
       "    <tr>\n",
       "      <th>Psalms_017.iaa</th>\n",
       "      <td>53</td>\n",
       "      <td>92</td>\n",
       "      <td>56</td>\n",
       "      <td>109</td>\n",
       "      <td>0.5423</td>\n",
       "    </tr>\n",
       "    <tr>\n",
       "      <th>Psalms_023.iaa</th>\n",
       "      <td>21</td>\n",
       "      <td>34</td>\n",
       "      <td>20</td>\n",
       "      <td>41</td>\n",
       "      <td>0.5467</td>\n",
       "    </tr>\n",
       "    <tr>\n",
       "      <th>Psalms_129.iaa</th>\n",
       "      <td>17</td>\n",
       "      <td>28</td>\n",
       "      <td>17</td>\n",
       "      <td>34</td>\n",
       "      <td>0.5484</td>\n",
       "    </tr>\n",
       "    <tr>\n",
       "      <th>Psalms_125.iaa</th>\n",
       "      <td>14</td>\n",
       "      <td>23</td>\n",
       "      <td>14</td>\n",
       "      <td>28</td>\n",
       "      <td>0.5490</td>\n",
       "    </tr>\n",
       "    <tr>\n",
       "      <th>Psalms_045.iaa</th>\n",
       "      <td>62</td>\n",
       "      <td>94</td>\n",
       "      <td>53</td>\n",
       "      <td>115</td>\n",
       "      <td>0.5502</td>\n",
       "    </tr>\n",
       "    <tr>\n",
       "      <th>Psalms_052.iaa</th>\n",
       "      <td>29</td>\n",
       "      <td>48</td>\n",
       "      <td>30</td>\n",
       "      <td>59</td>\n",
       "      <td>0.5514</td>\n",
       "    </tr>\n",
       "    <tr>\n",
       "      <th>Psalms_134.iaa</th>\n",
       "      <td>8</td>\n",
       "      <td>12</td>\n",
       "      <td>7</td>\n",
       "      <td>15</td>\n",
       "      <td>0.5556</td>\n",
       "    </tr>\n",
       "    <tr>\n",
       "      <th>Psalms_074.iaa</th>\n",
       "      <td>67</td>\n",
       "      <td>106</td>\n",
       "      <td>66</td>\n",
       "      <td>133</td>\n",
       "      <td>0.5565</td>\n",
       "    </tr>\n",
       "    <tr>\n",
       "      <th>Psalms_092.iaa</th>\n",
       "      <td>35</td>\n",
       "      <td>58</td>\n",
       "      <td>38</td>\n",
       "      <td>73</td>\n",
       "      <td>0.5573</td>\n",
       "    </tr>\n",
       "    <tr>\n",
       "      <th>Psalms_139.iaa</th>\n",
       "      <td>67</td>\n",
       "      <td>107</td>\n",
       "      <td>69</td>\n",
       "      <td>136</td>\n",
       "      <td>0.5597</td>\n",
       "    </tr>\n",
       "    <tr>\n",
       "      <th>Psalms_090.iaa</th>\n",
       "      <td>55</td>\n",
       "      <td>81</td>\n",
       "      <td>54</td>\n",
       "      <td>109</td>\n",
       "      <td>0.5737</td>\n",
       "    </tr>\n",
       "    <tr>\n",
       "      <th>Psalms_070.iaa</th>\n",
       "      <td>18</td>\n",
       "      <td>27</td>\n",
       "      <td>19</td>\n",
       "      <td>37</td>\n",
       "      <td>0.5781</td>\n",
       "    </tr>\n",
       "    <tr>\n",
       "      <th>Psalms_137.iaa</th>\n",
       "      <td>27</td>\n",
       "      <td>39</td>\n",
       "      <td>27</td>\n",
       "      <td>54</td>\n",
       "      <td>0.5806</td>\n",
       "    </tr>\n",
       "    <tr>\n",
       "      <th>Psalms_051.iaa</th>\n",
       "      <td>66</td>\n",
       "      <td>92</td>\n",
       "      <td>63</td>\n",
       "      <td>129</td>\n",
       "      <td>0.5837</td>\n",
       "    </tr>\n",
       "    <tr>\n",
       "      <th>Psalms_006.iaa</th>\n",
       "      <td>34</td>\n",
       "      <td>49</td>\n",
       "      <td>35</td>\n",
       "      <td>69</td>\n",
       "      <td>0.5847</td>\n",
       "    </tr>\n",
       "    <tr>\n",
       "      <th>Psalms_065.iaa</th>\n",
       "      <td>46</td>\n",
       "      <td>62</td>\n",
       "      <td>42</td>\n",
       "      <td>88</td>\n",
       "      <td>0.5867</td>\n",
       "    </tr>\n",
       "    <tr>\n",
       "      <th>...</th>\n",
       "      <td>...</td>\n",
       "      <td>...</td>\n",
       "      <td>...</td>\n",
       "      <td>...</td>\n",
       "      <td>...</td>\n",
       "    </tr>\n",
       "    <tr>\n",
       "      <th>Psalms_009.iaa</th>\n",
       "      <td>91</td>\n",
       "      <td>67</td>\n",
       "      <td>93</td>\n",
       "      <td>184</td>\n",
       "      <td>0.7331</td>\n",
       "    </tr>\n",
       "    <tr>\n",
       "      <th>Psalms_094.iaa</th>\n",
       "      <td>82</td>\n",
       "      <td>59</td>\n",
       "      <td>82</td>\n",
       "      <td>164</td>\n",
       "      <td>0.7354</td>\n",
       "    </tr>\n",
       "    <tr>\n",
       "      <th>Psalms_050.iaa</th>\n",
       "      <td>99</td>\n",
       "      <td>71</td>\n",
       "      <td>99</td>\n",
       "      <td>198</td>\n",
       "      <td>0.7361</td>\n",
       "    </tr>\n",
       "    <tr>\n",
       "      <th>Psalms_025.iaa</th>\n",
       "      <td>97</td>\n",
       "      <td>66</td>\n",
       "      <td>94</td>\n",
       "      <td>191</td>\n",
       "      <td>0.7432</td>\n",
       "    </tr>\n",
       "    <tr>\n",
       "      <th>Psalms_130.iaa</th>\n",
       "      <td>29</td>\n",
       "      <td>20</td>\n",
       "      <td>29</td>\n",
       "      <td>58</td>\n",
       "      <td>0.7436</td>\n",
       "    </tr>\n",
       "    <tr>\n",
       "      <th>Psalms_096.iaa</th>\n",
       "      <td>58</td>\n",
       "      <td>38</td>\n",
       "      <td>53</td>\n",
       "      <td>111</td>\n",
       "      <td>0.7450</td>\n",
       "    </tr>\n",
       "    <tr>\n",
       "      <th>Psalms_008.iaa</th>\n",
       "      <td>40</td>\n",
       "      <td>26</td>\n",
       "      <td>36</td>\n",
       "      <td>76</td>\n",
       "      <td>0.7451</td>\n",
       "    </tr>\n",
       "    <tr>\n",
       "      <th>Psalms_059.iaa</th>\n",
       "      <td>91</td>\n",
       "      <td>62</td>\n",
       "      <td>92</td>\n",
       "      <td>183</td>\n",
       "      <td>0.7469</td>\n",
       "    </tr>\n",
       "    <tr>\n",
       "      <th>Psalms_099.iaa</th>\n",
       "      <td>47</td>\n",
       "      <td>31</td>\n",
       "      <td>45</td>\n",
       "      <td>92</td>\n",
       "      <td>0.7480</td>\n",
       "    </tr>\n",
       "    <tr>\n",
       "      <th>Psalms_123.iaa</th>\n",
       "      <td>21</td>\n",
       "      <td>14</td>\n",
       "      <td>21</td>\n",
       "      <td>42</td>\n",
       "      <td>0.7500</td>\n",
       "    </tr>\n",
       "    <tr>\n",
       "      <th>Psalms_136.iaa</th>\n",
       "      <td>96</td>\n",
       "      <td>62</td>\n",
       "      <td>94</td>\n",
       "      <td>190</td>\n",
       "      <td>0.7540</td>\n",
       "    </tr>\n",
       "    <tr>\n",
       "      <th>Psalms_095.iaa</th>\n",
       "      <td>49</td>\n",
       "      <td>32</td>\n",
       "      <td>50</td>\n",
       "      <td>99</td>\n",
       "      <td>0.7557</td>\n",
       "    </tr>\n",
       "    <tr>\n",
       "      <th>Psalms_010.iaa</th>\n",
       "      <td>93</td>\n",
       "      <td>59</td>\n",
       "      <td>91</td>\n",
       "      <td>184</td>\n",
       "      <td>0.7572</td>\n",
       "    </tr>\n",
       "    <tr>\n",
       "      <th>Psalms_118.iaa</th>\n",
       "      <td>108</td>\n",
       "      <td>68</td>\n",
       "      <td>108</td>\n",
       "      <td>216</td>\n",
       "      <td>0.7606</td>\n",
       "    </tr>\n",
       "    <tr>\n",
       "      <th>Psalms_003.iaa</th>\n",
       "      <td>41</td>\n",
       "      <td>25</td>\n",
       "      <td>41</td>\n",
       "      <td>82</td>\n",
       "      <td>0.7664</td>\n",
       "    </tr>\n",
       "    <tr>\n",
       "      <th>Psalms_007.iaa</th>\n",
       "      <td>90</td>\n",
       "      <td>54</td>\n",
       "      <td>88</td>\n",
       "      <td>178</td>\n",
       "      <td>0.7672</td>\n",
       "    </tr>\n",
       "    <tr>\n",
       "      <th>Psalms_101.iaa</th>\n",
       "      <td>40</td>\n",
       "      <td>24</td>\n",
       "      <td>40</td>\n",
       "      <td>80</td>\n",
       "      <td>0.7692</td>\n",
       "    </tr>\n",
       "    <tr>\n",
       "      <th>Psalms_107.iaa</th>\n",
       "      <td>162</td>\n",
       "      <td>94</td>\n",
       "      <td>153</td>\n",
       "      <td>315</td>\n",
       "      <td>0.7702</td>\n",
       "    </tr>\n",
       "    <tr>\n",
       "      <th>Psalms_078.iaa</th>\n",
       "      <td>325</td>\n",
       "      <td>187</td>\n",
       "      <td>331</td>\n",
       "      <td>656</td>\n",
       "      <td>0.7782</td>\n",
       "    </tr>\n",
       "    <tr>\n",
       "      <th>Psalms_146.iaa</th>\n",
       "      <td>55</td>\n",
       "      <td>30</td>\n",
       "      <td>51</td>\n",
       "      <td>106</td>\n",
       "      <td>0.7794</td>\n",
       "    </tr>\n",
       "    <tr>\n",
       "      <th>Psalms_115.iaa</th>\n",
       "      <td>75</td>\n",
       "      <td>41</td>\n",
       "      <td>74</td>\n",
       "      <td>149</td>\n",
       "      <td>0.7842</td>\n",
       "    </tr>\n",
       "    <tr>\n",
       "      <th>Psalms_133.iaa</th>\n",
       "      <td>13</td>\n",
       "      <td>7</td>\n",
       "      <td>13</td>\n",
       "      <td>26</td>\n",
       "      <td>0.7879</td>\n",
       "    </tr>\n",
       "    <tr>\n",
       "      <th>Psalms_024.iaa</th>\n",
       "      <td>46</td>\n",
       "      <td>24</td>\n",
       "      <td>44</td>\n",
       "      <td>90</td>\n",
       "      <td>0.7895</td>\n",
       "    </tr>\n",
       "    <tr>\n",
       "      <th>Psalms_028.iaa</th>\n",
       "      <td>62</td>\n",
       "      <td>33</td>\n",
       "      <td>62</td>\n",
       "      <td>124</td>\n",
       "      <td>0.7898</td>\n",
       "    </tr>\n",
       "    <tr>\n",
       "      <th>Psalms_116.iaa</th>\n",
       "      <td>80</td>\n",
       "      <td>40</td>\n",
       "      <td>74</td>\n",
       "      <td>154</td>\n",
       "      <td>0.7938</td>\n",
       "    </tr>\n",
       "    <tr>\n",
       "      <th>Psalms_001.iaa</th>\n",
       "      <td>30</td>\n",
       "      <td>15</td>\n",
       "      <td>28</td>\n",
       "      <td>58</td>\n",
       "      <td>0.7945</td>\n",
       "    </tr>\n",
       "    <tr>\n",
       "      <th>Psalms_018.iaa</th>\n",
       "      <td>270</td>\n",
       "      <td>137</td>\n",
       "      <td>265</td>\n",
       "      <td>535</td>\n",
       "      <td>0.7961</td>\n",
       "    </tr>\n",
       "    <tr>\n",
       "      <th>Psalms_148.iaa</th>\n",
       "      <td>65</td>\n",
       "      <td>27</td>\n",
       "      <td>49</td>\n",
       "      <td>114</td>\n",
       "      <td>0.8085</td>\n",
       "    </tr>\n",
       "    <tr>\n",
       "      <th>Psalms_042.iaa</th>\n",
       "      <td>86</td>\n",
       "      <td>36</td>\n",
       "      <td>83</td>\n",
       "      <td>169</td>\n",
       "      <td>0.8244</td>\n",
       "    </tr>\n",
       "    <tr>\n",
       "      <th>Psalms_119.iaa</th>\n",
       "      <td>975</td>\n",
       "      <td>228</td>\n",
       "      <td>974</td>\n",
       "      <td>1949</td>\n",
       "      <td>0.8953</td>\n",
       "    </tr>\n",
       "  </tbody>\n",
       "</table>\n",
       "<p>150 rows × 5 columns</p>\n",
       "</div>"
      ],
      "text/plain": [
       "                  L    M    R     D       d\n",
       "Psalms_150.iaa   13   31   10    23  0.4259\n",
       "Psalms_093.iaa   11   29   11    22  0.4314\n",
       "Psalms_110.iaa   18   41   17    35  0.4605\n",
       "Psalms_128.iaa   12   27   12    24  0.4706\n",
       "Psalms_020.iaa   24   49   24    48  0.4948\n",
       "Psalms_120.iaa   12   24   12    24  0.5000\n",
       "Psalms_141.iaa   31   62   31    62  0.5000\n",
       "Psalms_047.iaa   18   35   18    36  0.5070\n",
       "Psalms_063.iaa   32   61   33    65  0.5159\n",
       "Psalms_112.iaa   26   45   24    50  0.5263\n",
       "Psalms_036.iaa   30   55   32    62  0.5299\n",
       "Psalms_048.iaa   34   58   33    67  0.5360\n",
       "Psalms_138.iaa   26   45   26    52  0.5361\n",
       "Psalms_058.iaa   30   50   29    59  0.5413\n",
       "Psalms_017.iaa   53   92   56   109  0.5423\n",
       "Psalms_023.iaa   21   34   20    41  0.5467\n",
       "Psalms_129.iaa   17   28   17    34  0.5484\n",
       "Psalms_125.iaa   14   23   14    28  0.5490\n",
       "Psalms_045.iaa   62   94   53   115  0.5502\n",
       "Psalms_052.iaa   29   48   30    59  0.5514\n",
       "Psalms_134.iaa    8   12    7    15  0.5556\n",
       "Psalms_074.iaa   67  106   66   133  0.5565\n",
       "Psalms_092.iaa   35   58   38    73  0.5573\n",
       "Psalms_139.iaa   67  107   69   136  0.5597\n",
       "Psalms_090.iaa   55   81   54   109  0.5737\n",
       "Psalms_070.iaa   18   27   19    37  0.5781\n",
       "Psalms_137.iaa   27   39   27    54  0.5806\n",
       "Psalms_051.iaa   66   92   63   129  0.5837\n",
       "Psalms_006.iaa   34   49   35    69  0.5847\n",
       "Psalms_065.iaa   46   62   42    88  0.5867\n",
       "...             ...  ...  ...   ...     ...\n",
       "Psalms_009.iaa   91   67   93   184  0.7331\n",
       "Psalms_094.iaa   82   59   82   164  0.7354\n",
       "Psalms_050.iaa   99   71   99   198  0.7361\n",
       "Psalms_025.iaa   97   66   94   191  0.7432\n",
       "Psalms_130.iaa   29   20   29    58  0.7436\n",
       "Psalms_096.iaa   58   38   53   111  0.7450\n",
       "Psalms_008.iaa   40   26   36    76  0.7451\n",
       "Psalms_059.iaa   91   62   92   183  0.7469\n",
       "Psalms_099.iaa   47   31   45    92  0.7480\n",
       "Psalms_123.iaa   21   14   21    42  0.7500\n",
       "Psalms_136.iaa   96   62   94   190  0.7540\n",
       "Psalms_095.iaa   49   32   50    99  0.7557\n",
       "Psalms_010.iaa   93   59   91   184  0.7572\n",
       "Psalms_118.iaa  108   68  108   216  0.7606\n",
       "Psalms_003.iaa   41   25   41    82  0.7664\n",
       "Psalms_007.iaa   90   54   88   178  0.7672\n",
       "Psalms_101.iaa   40   24   40    80  0.7692\n",
       "Psalms_107.iaa  162   94  153   315  0.7702\n",
       "Psalms_078.iaa  325  187  331   656  0.7782\n",
       "Psalms_146.iaa   55   30   51   106  0.7794\n",
       "Psalms_115.iaa   75   41   74   149  0.7842\n",
       "Psalms_133.iaa   13    7   13    26  0.7879\n",
       "Psalms_024.iaa   46   24   44    90  0.7895\n",
       "Psalms_028.iaa   62   33   62   124  0.7898\n",
       "Psalms_116.iaa   80   40   74   154  0.7938\n",
       "Psalms_001.iaa   30   15   28    58  0.7945\n",
       "Psalms_018.iaa  270  137  265   535  0.7961\n",
       "Psalms_148.iaa   65   27   49   114  0.8085\n",
       "Psalms_042.iaa   86   36   83   169  0.8244\n",
       "Psalms_119.iaa  975  228  974  1949  0.8953\n",
       "\n",
       "[150 rows x 5 columns]"
      ]
     },
     "execution_count": 5,
     "metadata": {},
     "output_type": "execute_result"
    }
   ],
   "source": [
    "tot_column_names=['-','L', 'M', 'R', 'D', 'd']\n",
    "tot_data_types={'-': str, 'L': int, 'M': int, 'R': int, 'D': int, 'd': float}\n",
    "cols=['L', 'M', 'R', 'D', 'd']\n",
    "\n",
    "manual_mimi_df = pd.read_table('total_psalms', \n",
    "                           delim_whitespace=True, \n",
    "                           names=tot_column_names,\n",
    "                           dtype=tot_data_types\n",
    "                          ).drop(columns='-').sort_values(by='d')\n",
    "manual_mimi_df"
   ]
  },
  {
   "cell_type": "code",
   "execution_count": 24,
   "metadata": {},
   "outputs": [],
   "source": [
    "ExportToLatex(OUTPUT, 'manual_mimi_all', manual_mimi_df, indx = True)"
   ]
  },
  {
   "cell_type": "code",
   "execution_count": 6,
   "metadata": {},
   "outputs": [
    {
     "name": "stdout",
     "output_type": "stream",
     "text": [
      "total_psalms\t-\t9869\t8702\t9782\t19651\t0.6931\n"
     ]
    },
    {
     "data": {
      "text/html": [
       "<div>\n",
       "<style scoped>\n",
       "    .dataframe tbody tr th:only-of-type {\n",
       "        vertical-align: middle;\n",
       "    }\n",
       "\n",
       "    .dataframe tbody tr th {\n",
       "        vertical-align: top;\n",
       "    }\n",
       "\n",
       "    .dataframe thead th {\n",
       "        text-align: right;\n",
       "    }\n",
       "</style>\n",
       "<table border=\"1\" class=\"dataframe\">\n",
       "  <thead>\n",
       "    <tr style=\"text-align: right;\">\n",
       "      <th></th>\n",
       "      <th>L</th>\n",
       "      <th>M</th>\n",
       "      <th>R</th>\n",
       "      <th>D</th>\n",
       "      <th>d</th>\n",
       "    </tr>\n",
       "  </thead>\n",
       "  <tbody>\n",
       "    <tr>\n",
       "      <th>iaa total</th>\n",
       "      <td>9869</td>\n",
       "      <td>8702</td>\n",
       "      <td>9782</td>\n",
       "      <td>19651</td>\n",
       "      <td>0.6931</td>\n",
       "    </tr>\n",
       "  </tbody>\n",
       "</table>\n",
       "</div>"
      ],
      "text/plain": [
       "              L     M     R      D       d\n",
       "iaa total  9869  8702  9782  19651  0.6931"
      ]
     },
     "execution_count": 6,
     "metadata": {},
     "output_type": "execute_result"
    }
   ],
   "source": [
    "name_ps, Lt_ps, Mt_ps, Rt_ps, Dt_ps, dt_ps = print_total('total_psalms')\n",
    "\n",
    "manual_mimi_tot = pd.DataFrame([[Lt_ps, Mt_ps, Rt_ps, Dt_ps, dt_ps]],\n",
    "                  index=['iaa total'],\n",
    "                  columns=cols\n",
    "                 )\n",
    "manual_mimi_tot"
   ]
  },
  {
   "cell_type": "code",
   "execution_count": 25,
   "metadata": {},
   "outputs": [],
   "source": [
    "ExportToLatex(OUTPUT, 'manual_mimi_tot', manual_mimi_tot, indx = True)"
   ]
  },
  {
   "cell_type": "code",
   "execution_count": 7,
   "metadata": {},
   "outputs": [],
   "source": [
    "path_manual = os.path.expanduser('~/Sites/brat/data/coref/Psalms/annotate')\n",
    "# Path to corrected MiMi ann files. The mention indices in these files have been reindexed so that \n",
    "# they fit the mention indices for the manual annotations. \n",
    "path_mimi_trans = os.path.expanduser('~/github/cmerwich/participant-analysis/iaa-ann-vs-mimi')"
   ]
  },
  {
   "cell_type": "code",
   "execution_count": 8,
   "metadata": {},
   "outputs": [
    {
     "name": "stdout",
     "output_type": "stream",
     "text": [
      "18571\n"
     ]
    }
   ],
   "source": [
    "mentions_manual = Parse(path_manual)\n",
    "tot_manual = mentions_manual\n",
    "mentions_manual = set(mentions_manual)"
   ]
  },
  {
   "cell_type": "code",
   "execution_count": 9,
   "metadata": {},
   "outputs": [
    {
     "name": "stdout",
     "output_type": "stream",
     "text": [
      "18484\n"
     ]
    }
   ],
   "source": [
    "mentions_mimi = Parse(path_mimi_trans)\n",
    "tot_mimi = mentions_mimi\n",
    "mentions_mimi = set(mentions_mimi)"
   ]
  },
  {
   "cell_type": "code",
   "execution_count": 10,
   "metadata": {},
   "outputs": [
    {
     "data": {
      "text/plain": [
       "96.23524170193807"
      ]
     },
     "execution_count": 10,
     "metadata": {},
     "output_type": "execute_result"
    }
   ],
   "source": [
    "len(set(mentions_manual)) / len(set(mentions_mimi)) * 100"
   ]
  },
  {
   "cell_type": "code",
   "execution_count": 11,
   "metadata": {},
   "outputs": [
    {
     "data": {
      "text/plain": [
       "91.8"
      ]
     },
     "execution_count": 11,
     "metadata": {},
     "output_type": "execute_result"
    }
   ],
   "source": [
    "percent_common = len(mentions_manual & mentions_mimi) / len(mentions_mimi) * 100\n",
    "\n",
    "round_percent = round(percent_common, 1)\n",
    "round_percent"
   ]
  },
  {
   "cell_type": "code",
   "execution_count": 12,
   "metadata": {},
   "outputs": [],
   "source": [
    "precision = len(mentions_manual & mentions_mimi) / len(mentions_manual) * 100\n",
    "recall = len(mentions_manual & mentions_mimi) / len(mentions_mimi) * 100\n",
    "\n",
    "#round_precison = round(precision, 1)\n",
    "round_precison = 0\n",
    "#round_recall = round(recall, 1)\n",
    "round_recall = 0"
   ]
  },
  {
   "cell_type": "code",
   "execution_count": 13,
   "metadata": {},
   "outputs": [
    {
     "data": {
      "text/plain": [
       "8978"
      ]
     },
     "execution_count": 13,
     "metadata": {},
     "output_type": "execute_result"
    }
   ],
   "source": [
    "len(mentions_mimi)"
   ]
  },
  {
   "cell_type": "code",
   "execution_count": 14,
   "metadata": {},
   "outputs": [
    {
     "data": {
      "text/plain": [
       "8240"
      ]
     },
     "execution_count": 14,
     "metadata": {},
     "output_type": "execute_result"
    }
   ],
   "source": [
    "intersection = len(mentions_manual & mentions_mimi)\n",
    "intersection"
   ]
  },
  {
   "cell_type": "code",
   "execution_count": 15,
   "metadata": {},
   "outputs": [
    {
     "data": {
      "text/plain": [
       "9378"
      ]
     },
     "execution_count": 15,
     "metadata": {},
     "output_type": "execute_result"
    }
   ],
   "source": [
    "union = len(mentions_manual | mentions_mimi)\n",
    "union"
   ]
  },
  {
   "cell_type": "code",
   "execution_count": 16,
   "metadata": {},
   "outputs": [
    {
     "data": {
      "text/plain": [
       "738"
      ]
     },
     "execution_count": 16,
     "metadata": {},
     "output_type": "execute_result"
    }
   ],
   "source": [
    "man_diff = len(mentions_mimi - mentions_manual)\n",
    "man_diff"
   ]
  },
  {
   "cell_type": "code",
   "execution_count": 17,
   "metadata": {},
   "outputs": [
    {
     "data": {
      "text/plain": [
       "400"
      ]
     },
     "execution_count": 17,
     "metadata": {},
     "output_type": "execute_result"
    }
   ],
   "source": [
    "mimi_diff = len(mentions_manual - mentions_mimi)\n",
    "mimi_diff"
   ]
  },
  {
   "cell_type": "code",
   "execution_count": 18,
   "metadata": {},
   "outputs": [
    {
     "data": {
      "text/plain": [
       "1138"
      ]
     },
     "execution_count": 18,
     "metadata": {},
     "output_type": "execute_result"
    }
   ],
   "source": [
    "symm_diff = man_diff + mimi_diff\n",
    "symm_diff"
   ]
  },
  {
   "cell_type": "code",
   "execution_count": 19,
   "metadata": {},
   "outputs": [
    {
     "data": {
      "text/plain": [
       "1138"
      ]
     },
     "execution_count": 19,
     "metadata": {},
     "output_type": "execute_result"
    }
   ],
   "source": [
    "D = len(mentions_manual | mentions_mimi) - len(mentions_manual & mentions_mimi)\n",
    "D"
   ]
  },
  {
   "cell_type": "code",
   "execution_count": 20,
   "metadata": {},
   "outputs": [
    {
     "data": {
      "text/plain": [
       "0.1213"
      ]
     },
     "execution_count": 20,
     "metadata": {},
     "output_type": "execute_result"
    }
   ],
   "source": [
    "# Jaccard distance \n",
    "dj = (len(mentions_manual | mentions_mimi) - len(mentions_manual & mentions_mimi)) / \\\n",
    "len(mentions_manual | mentions_mimi)\n",
    "\n",
    "round_dj = round(dj, 4)\n",
    "\n",
    "round_dj"
   ]
  },
  {
   "cell_type": "code",
   "execution_count": 21,
   "metadata": {},
   "outputs": [
    {
     "data": {
      "text/plain": [
       "0.8787"
      ]
     },
     "execution_count": 21,
     "metadata": {},
     "output_type": "execute_result"
    }
   ],
   "source": [
    "# Jaccard index\n",
    "j = len(mentions_manual & mentions_mimi) / ((len(mentions_manual) + len(mentions_mimi)) - len(mentions_manual & mentions_mimi))\n",
    "\n",
    "round_j = round(j, 4)\n",
    "round_j"
   ]
  },
  {
   "cell_type": "markdown",
   "metadata": {},
   "source": [
    "### Mentions: Manual vs MiMi"
   ]
  },
  {
   "cell_type": "code",
   "execution_count": 26,
   "metadata": {},
   "outputs": [
    {
     "data": {
      "text/html": [
       "<div>\n",
       "<style scoped>\n",
       "    .dataframe tbody tr th:only-of-type {\n",
       "        vertical-align: middle;\n",
       "    }\n",
       "\n",
       "    .dataframe tbody tr th {\n",
       "        vertical-align: top;\n",
       "    }\n",
       "\n",
       "    .dataframe thead th {\n",
       "        text-align: right;\n",
       "    }\n",
       "</style>\n",
       "<table border=\"1\" class=\"dataframe\">\n",
       "  <thead>\n",
       "    <tr style=\"text-align: right;\">\n",
       "      <th></th>\n",
       "      <th>manual</th>\n",
       "      <th>L</th>\n",
       "      <th>M</th>\n",
       "      <th>R</th>\n",
       "      <th>mimi</th>\n",
       "      <th>D</th>\n",
       "      <th>d</th>\n",
       "      <th>%common</th>\n",
       "      <th>precision</th>\n",
       "      <th>recall</th>\n",
       "    </tr>\n",
       "  </thead>\n",
       "  <tbody>\n",
       "    <tr>\n",
       "      <th>mentions</th>\n",
       "      <td>18571</td>\n",
       "      <td>738</td>\n",
       "      <td>8240</td>\n",
       "      <td>400</td>\n",
       "      <td>18484</td>\n",
       "      <td>1138</td>\n",
       "      <td>0.1213</td>\n",
       "      <td>91.8</td>\n",
       "      <td>0</td>\n",
       "      <td>0</td>\n",
       "    </tr>\n",
       "  </tbody>\n",
       "</table>\n",
       "</div>"
      ],
      "text/plain": [
       "          manual    L     M    R   mimi     D       d  %common  precision  \\\n",
       "mentions   18571  738  8240  400  18484  1138  0.1213     91.8          0   \n",
       "\n",
       "          recall  \n",
       "mentions       0  "
      ]
     },
     "execution_count": 26,
     "metadata": {},
     "output_type": "execute_result"
    }
   ],
   "source": [
    "cols = ['manual', 'L', 'M', 'R', \n",
    "        'mimi', 'D', 'd', '%common', 'precision', 'recall']\n",
    "\n",
    "df_mentions = pd.DataFrame([[len(tot_manual), man_diff, intersection, mimi_diff, \n",
    "        len(tot_mimi), D, round_dj, round_percent, round_precison, round_recall]],\n",
    "                  index=['mentions'],\n",
    "                  columns=cols\n",
    "                 )\n",
    "df_mentions"
   ]
  },
  {
   "cell_type": "code",
   "execution_count": 27,
   "metadata": {},
   "outputs": [],
   "source": [
    "ExportToLatex(OUTPUT, 'manual_mimi_mentions', df_mentions, indx = True)"
   ]
  },
  {
   "cell_type": "code",
   "execution_count": null,
   "metadata": {
    "scrolled": false
   },
   "outputs": [],
   "source": [
    "! wc -l *.diff | sort -n"
   ]
  },
  {
   "cell_type": "code",
   "execution_count": null,
   "metadata": {},
   "outputs": [],
   "source": [
    "! make"
   ]
  }
 ],
 "metadata": {
  "kernelspec": {
   "display_name": "Python 3",
   "language": "python",
   "name": "python3"
  },
  "language_info": {
   "codemirror_mode": {
    "name": "ipython",
    "version": 3
   },
   "file_extension": ".py",
   "mimetype": "text/x-python",
   "name": "python",
   "nbconvert_exporter": "python",
   "pygments_lexer": "ipython3",
   "version": "3.7.0"
  }
 },
 "nbformat": 4,
 "nbformat_minor": 2
}
