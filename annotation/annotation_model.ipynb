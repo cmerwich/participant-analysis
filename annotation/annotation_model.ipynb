{
 "cells": [
  {
   "cell_type": "markdown",
   "metadata": {},
   "source": [
    "<img align=\"right\" src=\"images/tf-small.png\" width=\"90\"/>\n",
    "<img align=\"right\" src=\"images/etcbc.png\" width=\"100\"/>\n",
    "\n",
    "# Annotation Model\n",
    "\n",
    "#### Annotating coreference in the Hebrew Bible\n",
    "\n",
    "This notebook defines which reference information and coreference relation is considered for the annotation of coreference in the Hebrew Bible. The annotation model is based on the [CoNLL-2012 Shared Task](https://www.aclweb.org/anthology/W12-4501.pdf). "
   ]
  },
  {
   "cell_type": "markdown",
   "metadata": {},
   "source": [
    "## Relation and Mentions\n",
    "\n",
    "For the Hebrew Bible one coreference relation is distinguished: identity ('IDENT'). Though appositives are tagged in the ETCBC corpus, for the sake of simplicity of the annotation model the Hebrew Bible 'IDENT' type includes both the IDENT and APPOS relation. Appositions are thus also annotated as 'IDENT' relation.\n",
    "The terms *T*, or mentions, that are annotated and considered for coreference in the Hebrew Bible are:  \n",
    "\n",
    "* **Noun phrases (NP)**: there is no limit on the semantic types of entities that can be considered for coreference. \n",
    "\n",
    "* **Pronouns**: SPP's (suffixed personal pronouns, or possessive suffixes) and IPP's (independent personal pronouns) are linked to anything that they refer to. If the verb has an SPP, both the verb (see also the next item) and the SPP are marked as a separate mention. Pronouns in direct speech are also annotated. For prepositions with a SPP, only the SPP is annotated, the preposition is left out of consideration.\n",
    "\n",
    "* **Verbs (events)**: all verbs, including participles, are added as mentions, since the affixes and/or suffixes in BH indicate gender, number and/or person information. Infinitives with a predicate object suffix or predicate subject suffix are annotated. Infinitives with an object suffix are marked separately as two mentions, if the infinitive has a lexical match with an other mention such as a substantive active elsewhere in the text. If this is not the case, the infinitive is not annotated. Infinitives with a subject suffix are always marked as one mention. Infinitives that have a lexical match with other mentions like substantives or active verbs are annotated.\n",
    "\n",
    "* **Named Entities (NE)**: the ETCBC corpus has been tagged with a set of five named entity types: person, measurement unit, people, place, demonstrative personal pronoun. \n",
    "\n",
    "* **Nominal modifiers**: premodifiers and postmodifiers, also in morphologically adjectival form, can be annotated as mention as part of the NP when it is necessary for the understanding of the NP. Or in other words: to make the NP less ambiguous. The mention can be coreferred. Adjectives by themselves are not annotated as mention. \n",
    "\n",
    "## Domain-specific Choices\n",
    "Some remarks about domain-specific choices for what is considered as a mention are in place. \n",
    "\n",
    "* **Singletons** can be noun phrases, events, etc. (as listed above). If they are not in an IDENT relation they are not explicitly marked as such. Since the ETCBC database does not easily allow for separate recovery of singletons from the existent syntactic annotations, singletons are simply marked as all other mentions (see below for the different annotation phases). \n",
    "\n",
    "* **Generic mentions** since BH is a dead language and the contextual meaning of the mention is missing, it may be hard to determine if the mention is generic or not. Therefore generic nominal mentions can be connected with referring pronouns and other definite mentions and even other generic nominal mentions.\n",
    "\n",
    "* **Copular verbs** or **linking verbs**, function as a copula and are followed by a predicate complement (cf. the [`function`](https://etcbc.github.io/bhsa/features/function/) feature). Predicate complements with or without a suffix that follow copula are marked as mentions. \n",
    "\n",
    "* **Nominal clauses** are clauses without a verbal predicate. They are not annotated for coreference relations, unless they contain an apposition. Mentions in nominal clauses are annotated.  \n",
    "\n",
    "* **Temporal expressions** like generic mentions, are sometimes hard to understand without context. If the temporal expression is specific, 'on this day', it is marked as mention. \n",
    "\n",
    "* **Nested noun phrases** have been tagged differently in the ETCBC database compared to how OntoNotes understands NP's. NP's in the ETCBC database can be nested in NP's, PP's and other phrases (see the ETCBC feature [type](https://etcbc.github.io/bhsa/features/typ/)). In order to determine what nested NP's refer to other mentions it is essential that the correct units and boundaries of NP's are recognised and marked.[<sup>1</sup>](#fn1) In an article Dyk, henceforth cited as (Dyk 2010), has formulated principles to determine the boundaries of NP's which are summarised in the table below (Dyk 2010, 124). The table gives the possible syntactic relationships of noun phrases. The order of the components in these (nested) structures is strictly linear. The *X* in XP refers to other possible phrase types. On the basis of these principles a number of rules can be formulated that will aid in the demarcation of NP's (verbal phrases are left out of consideration here) for the annotation of mentions (Dyk 2010, 132):\n",
    "\n",
    "| Head | Obligatory Expansions  | Optional Expansions |\n",
    "| ---- | ---- | ---- | \n",
    "| Noun abs state | -- | Apposition (same phrase type) |  \n",
    "| Noun cst state | XP | Attribution (AdjP--for NP's) | \n",
    "| Preposition | XP | Specification (PP / VP) |\n",
    "| Sub conj | XP  | None |\n",
    "\n",
    "> \"The part of speech determines what type of syntactic connections a form makes.\" <br> \n",
    "> \"The state of a nominal form determines its relation to the following element.\"<br>\n",
    "> \"Nouns in absolute state mark the boundary of a potentially independent phrase.\"<br>\n",
    "> \"Proper nouns and suffixes function syntactically as determined nouns in absolute state.\"<br>\n",
    "> \"Each nominal structure follows a strictly linear order in which components occur.\"<br>\n",
    "> \"Nouns in construct state must be taken to be the head of a new phrase which governs a whole phrase which in turn has the possibility of obligatory and non-obligatory expansions.\"<br>\n",
    "\n",
    "* **Nested mentions** A correctly demarcated and annotated nested NP may contain nested mentions. The example below illustrates what is understood by nested mentions. The NP contains two mentions: 'horse of the king' and 'the king'. The annotation of these kind of nested mentions poses two problems. Firstly, annotation tool brat does not allow for the annotation of nested mentions. Secondly, the storage of the annotated nested mention on Text-Fabric text-objects is not possible. Therefore the choice has been made that nested mentions are annotated in their entirety: (horse of the king, mention 1). This choice may lead to some simplification of the data, but is accepted as a minor loss.\n",
    "\n",
    "> SWS HMLK (ETCBC transliteration of סוס המלך) <br>\n",
    "> 'horse of the king' (translation) <br>\n",
    "> horse of the king (mention 1) <br>\n",
    "> the king (mention 2) <br>\n",
    "\n",
    "* **Singular = plural** is a principle that will be taken into account for determining if mentions are coreferent for number information. The singular = plural principle can be found in the grammars of Waltke-O’Connor and Van Der Merwe et al. The singular = plural principle pertains to mentions that corefer but differ in grammatical number: the number of mention can be singular but corefers with a mention that is plural. \n",
    "* **Substantives** functioning as prepositions] are not annotated as mention.\n",
    "\n",
    "* **Titles of Psalms** are annotated as self-contained units, the mentions within a title are not connected to coreference chains in the text that follows. \n",
    "\n",
    "* **Parallelism** Despite the great number of parallelisms in the Psalms, as rhetoric device they are not explicitly defined as coreference relation since it \"is a fairly weak indicator of coreference. For instance, if two verbs denote events that are unrelated to each other, it is not clear why their arguments should be coreferent even if they have the same semantic role.\" \\autocite[12]{Ng2016} All mentions within a parallelism are annotated. Naturally, it is possible that a specific parallelism can contain a coreference relation, then it is annotated as such. "
   ]
  },
  {
   "cell_type": "markdown",
   "metadata": {},
   "source": [
    "## Process \n",
    "\n",
    "The annotation process itself takes place in three consecutive phases. \n",
    "\n",
    "1. The first phase consists of marking all mentions in each document, i.e. mention detection. To counter problems with left--right and right--left renderings of BH in *brat* and other data processing and analysis tools the BH text is imported in [ETCBC transliteration](https://annotation.github.io/text-fabric/Writing/Hebrew/) (also see [TF text](https://annotation.github.io/text-fabric/Api/Text/)). Consequently, the transliterated text is annotated. The Hebrew Bible has complex morphology: it is a highly inflected language in which nouns and verbs can encode information about person, gender and number through (a combination of) prefixes and suffixes and a single base stem. In phase (1) therefore the verbs, which carry person, gender and number information are annotated completely. If the verb has an SPP, this is marked as a separate mention. For prepositions with a suffix, only the suffix is annotated, the preposition is left out of consideration. \n",
    "\n",
    "2. After the marking of all mentions in the corpus, they are annotated for coreference relations, i.e. coreference resolution. It may occur that the annotations of mentions need to be corrected due to mistakes. This phase allows for the correction of such mistakes. In the annotation tool *brat* notes can be added to mentions. When the annotator is for example in doubt about the annotation of a mention or coreference relation, a 'mention note' can be added for later reference. \n",
    "\n",
    "3. The last phase consists of corrections of any mistakes that have been made in phase (1) and (2). Completing phase (1) and (2) thus implies that the annotator sees the corpus that she annotates two times. "
   ]
  },
  {
   "cell_type": "markdown",
   "metadata": {},
   "source": [
    "## Footnotes\n",
    "\n",
    "<span id=\"fn1\"> 1 An article by Dyk is used here: Dyk, J.W. 2010. “The Computer and Complex Phrase Structure: A Unified Ap- proach to Embedding, Gapping and Recursion”. In: Computer Assisted Research on the Bible in the 21st Century. Ed. by L. Vegas Montaner, G. Seijas de los Ríos-Zarzosa, and J. del Barco. Bible in Technology 5. Piscataway [N.J.]: Gorgias Press.<span>"
   ]
  }
 ],
 "metadata": {
  "kernelspec": {
   "display_name": "Python 3",
   "language": "python",
   "name": "python3"
  },
  "language_info": {
   "codemirror_mode": {
    "name": "ipython",
    "version": 3
   },
   "file_extension": ".py",
   "mimetype": "text/x-python",
   "name": "python",
   "nbconvert_exporter": "python",
   "pygments_lexer": "ipython3",
   "version": "3.7.0"
  }
 },
 "nbformat": 4,
 "nbformat_minor": 2
}
